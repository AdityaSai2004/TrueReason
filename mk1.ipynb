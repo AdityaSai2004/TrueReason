{
 "cells": [
  {
   "cell_type": "code",
   "execution_count": null,
   "metadata": {},
   "outputs": [],
   "source": [
    "from openai import OpenAI\n",
    "import json\n",
    "import re\n",
    "import subprocess\n"
   ]
  },
  {
   "cell_type": "code",
   "execution_count": null,
   "metadata": {},
   "outputs": [],
   "source": [
    "client = OpenAI(\n",
    "  base_url=\"https://openrouter.ai/api/v1\",\n",
    "  api_key=\"\", # Add your API key here\n",
    ")"
   ]
  },
  {
   "cell_type": "code",
   "execution_count": 82,
   "metadata": {},
   "outputs": [],
   "source": [
    "prompt = \"\"\"How many Rs in the word Strawberry?\n",
    "\"\"\""
   ]
  },
  {
   "cell_type": "code",
   "execution_count": 83,
   "metadata": {},
   "outputs": [],
   "source": [
    "completion = client.chat.completions.create(\n",
    "  model=\"google/gemini-2.0-pro-exp-02-05:free\",\n",
    "  messages=[\n",
    "      {\n",
    "        \"role\": \"developer\",\n",
    "        \"content\": \"\"\"You are an assistant with access to a Python execution environment.\n",
    "        Your response **must** always be in JSON format.  \n",
    "        - If the question can be solved with code, return:  \n",
    "          ```json\n",
    "          {\"type\": \"code\", \"code\": \"<generated Python code>\"}\n",
    "          ```  \n",
    "        - If it does not require code, return:  \n",
    "          ```json\n",
    "          {\"type\": \"text\", \"answer\": \"<natural language response>\"}\n",
    "          ```  \n",
    "        - If multiple questions with different types are asked, return \n",
    "        the non code response also in the code as a print statement.\n",
    "        Prefer to generate code whenever possible.\"\"\",\n",
    "      },\n",
    "    {\n",
    "    \"role\": \"user\",\n",
    "    \"content\": prompt,\n",
    "    }\n",
    "  ]\n",
    ")\n",
    "\n"
   ]
  },
  {
   "cell_type": "code",
   "execution_count": 84,
   "metadata": {},
   "outputs": [
    {
     "name": "stdout",
     "output_type": "stream",
     "text": [
      "```json\n",
      "{\"type\": \"code\", \"code\": \"word = \\\"Strawberry\\\"\\ncount = word.lower().count('r')\\nprint(count)\"}\n",
      "```\n"
     ]
    }
   ],
   "source": [
    "print(completion.choices[0].message.content)"
   ]
  },
  {
   "cell_type": "code",
   "execution_count": null,
   "metadata": {},
   "outputs": [
    {
     "name": "stdout",
     "output_type": "stream",
     "text": [
      "Generated Code:\n",
      " word = \"Strawberry\"\n",
      "count = word.lower().count('r')\n",
      "print(count)\n",
      "3\n",
      "\n",
      "Final Answer: The word \"Strawberry\" contains 3 \"R\"s (or \"r\"s). This is because the code correctly converts the word to lowercase (\"strawberry\") and then counts the occurrences of 'r', finding three instances.\n"
     ]
    }
   ],
   "source": [
    "# Get the raw response from the LLM\n",
    "raw_response = completion.choices[0].message.content\n",
    "if raw_response.startswith(\"```json\") and raw_response.endswith(\"```\"):\n",
    "    raw_response = re.sub(r\"^```json|\\n```$\", \"\", raw_response).strip()\n",
    "\n",
    "try:\n",
    "    # Parse the JSON response\n",
    "    response_data = json.loads(raw_response)\n",
    "    # Check if it's code or text\n",
    "    if response_data.get(\"type\") == \"code\":\n",
    "        generated_code = response_data.get(\"code\", \"\")\n",
    "        print(\"Generated Code:\\n\", generated_code)\n",
    "\n",
    "        try:\n",
    "            result = subprocess.run(\n",
    "                [\"python\", \"-c\", generated_code], capture_output=True, text=True, timeout=5\n",
    "            )\n",
    "            execution_result = result.stdout.strip() if result.stdout else result.stderr.strip()\n",
    "            print(execution_result)\n",
    "        except Exception as e:\n",
    "            execution_result = f\"Error during execution: {str(e)}\"\n",
    "                # Send execution result back to LLM for final answer\n",
    "        refinement_prompt = {\n",
    "            \"role\": \"user\",\n",
    "            \"content\": f\"\"\"You were asked a question :\n",
    "            {prompt}\n",
    "            You generated the following Python code to solve it:\n",
    "            ```python\n",
    "            {generated_code}\n",
    "            ```\n",
    "            The execution result was:\n",
    "            ```\n",
    "            {execution_result}\n",
    "            ```\n",
    "            Now, based on this, provide a final, well-informed answer to the user's original question.\n",
    "            \"\"\",\n",
    "        }\n",
    "        refined_completion = client.chat.completions.create(\n",
    "            model=\"google/gemini-2.0-pro-exp-02-05:free\",\n",
    "            messages=[refinement_prompt]\n",
    "        )\n",
    "\n",
    "        final_answer = refined_completion.choices[0].message.content.strip()\n",
    "        print(\"\\nFinal Answer:\", final_answer)\n",
    "\n",
    "    elif response_data.get(\"type\") == \"text\":\n",
    "        answer = response_data.get(\"answer\", \"\")\n",
    "        print(\"Answer:\\n\", answer)\n",
    "\n",
    "    else:\n",
    "        print(\"Unexpected response format:\", response_data)\n",
    "\n",
    "except json.JSONDecodeError as e:\n",
    "    print(\"Error parsing JSON:\", str(e))\n",
    "    print(\"Raw response:\", raw_response)\n"
   ]
  },
  {
   "cell_type": "code",
   "execution_count": 86,
   "metadata": {},
   "outputs": [
    {
     "name": "stdout",
     "output_type": "stream",
     "text": [
      "Prompt:\n",
      " How many Rs in the word Strawberry?\n",
      "\n",
      "Generated Code:\n",
      " word = \"Strawberry\"\n",
      "count = word.lower().count('r')\n",
      "print(count)\n",
      "\n",
      "Execution Result:\n",
      " 3\n",
      "\n",
      "Final Answer:\n",
      " The word \"Strawberry\" contains 3 \"R\"s (or \"r\"s). This is because the code correctly converts the word to lowercase (\"strawberry\") and then counts the occurrences of 'r', finding three instances.\n"
     ]
    }
   ],
   "source": [
    "print(\"Prompt:\\n\", prompt)\n",
    "print(\"Generated Code:\\n\", generated_code)\n",
    "print(\"\\nExecution Result:\\n\", execution_result)\n",
    "print(\"\\nFinal Answer:\\n\", final_answer)"
   ]
  }
 ],
 "metadata": {
  "kernelspec": {
   "display_name": "Python 3",
   "language": "python",
   "name": "python3"
  },
  "language_info": {
   "codemirror_mode": {
    "name": "ipython",
    "version": 3
   },
   "file_extension": ".py",
   "mimetype": "text/x-python",
   "name": "python",
   "nbconvert_exporter": "python",
   "pygments_lexer": "ipython3",
   "version": "3.11.5"
  }
 },
 "nbformat": 4,
 "nbformat_minor": 2
}
